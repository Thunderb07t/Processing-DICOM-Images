{
 "cells": [
  {
   "cell_type": "markdown",
   "metadata": {},
   "source": [
    "# Conversion of DICOM information to CSV"
   ]
  },
  {
   "cell_type": "code",
   "execution_count": 1,
   "metadata": {},
   "outputs": [],
   "source": [
    "#Import the required libraries\n",
    "import pydicom\n",
    "import os\n",
    "import pandas as pd\n",
    "import csv"
   ]
  },
  {
   "cell_type": "code",
   "execution_count": 2,
   "metadata": {},
   "outputs": [],
   "source": [
    "# List of attributes available in dicom image\n",
    "FieldsInput = 'dicomFields.csv'\n",
    "dicomFields = pd.read_csv(FieldsInput)"
   ]
  },
  {
   "cell_type": "code",
   "execution_count": 3,
   "metadata": {},
   "outputs": [],
   "source": [
    "# Specifying the input folder path\n",
    "InputFolder = 'TCGA-THCA/'\n",
    "InputPath = os.listdir(InputFolder)"
   ]
  },
  {
   "cell_type": "code",
   "execution_count": 4,
   "metadata": {},
   "outputs": [],
   "source": [
    "filesDCM=[] #Stores name of all dcm files\n",
    "Error=[]    #Stores name of files that produce error while handling pixel data\n",
    "\n",
    "for dirName,subdirList,fileList in os.walk(InputFolder):\n",
    "    for fileName in fileList:\n",
    "        if \".dcm\" in fileName.lower():\n",
    "            ds=pydicom.read_file(os.path.join(dirName,fileName))\n",
    "            try:\n",
    "                filesDCM.append(os.path.join(dirName,fileName))\n",
    "            except:\n",
    "                Error.append(os.path.join(dirName,fileName))"
   ]
  },
  {
   "cell_type": "markdown",
   "metadata": {},
   "source": [
    "Now we read and store all the data element fields to a CSV file for all the .dcm images in InputFolder"
   ]
  },
  {
   "cell_type": "code",
   "execution_count": 5,
   "metadata": {},
   "outputs": [],
   "source": [
    "# Patient's information will be stored in current working directory 'Patient_Detail.csv'\n",
    "OutputFile = 'Patient_Detail.csv'\n",
    "with open(OutputFile, 'w', newline ='') as csvfile:\n",
    "    fieldnames = list(dicomFields[\"Description\"])\n",
    "    \n",
    "    writer = csv.writer(csvfile, delimiter=',')\n",
    "    writer.writerow(fieldnames)\n",
    "    \n",
    "    for files in filesDCM:\n",
    "        ds = pydicom.read_file(files)\n",
    "        rows = []\n",
    "        \n",
    "        for field in fieldnames:\n",
    "            if ds.data_element(field) is None:\n",
    "                rows.append('')\n",
    "            else:\n",
    "                x = str(ds.data_element(field)).replace(\"'\", \"\")\n",
    "                y = x.find(\":\")\n",
    "                x = x[y+2:]\n",
    "                rows.append(x)\n",
    "        writer.writerow(rows)"
   ]
  },
  {
   "cell_type": "code",
   "execution_count": null,
   "metadata": {},
   "outputs": [],
   "source": []
  }
 ],
 "metadata": {
  "kernelspec": {
   "display_name": "Python 3",
   "language": "python",
   "name": "python3"
  },
  "language_info": {
   "codemirror_mode": {
    "name": "ipython",
    "version": 3
   },
   "file_extension": ".py",
   "mimetype": "text/x-python",
   "name": "python",
   "nbconvert_exporter": "python",
   "pygments_lexer": "ipython3",
   "version": "3.6.8"
  }
 },
 "nbformat": 4,
 "nbformat_minor": 2
}
