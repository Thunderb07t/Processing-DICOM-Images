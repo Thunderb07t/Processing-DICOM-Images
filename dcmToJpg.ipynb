{
 "cells": [
  {
   "cell_type": "markdown",
   "metadata": {},
   "source": [
    "# To Convert DICOM images to JPG"
   ]
  },
  {
   "cell_type": "markdown",
   "metadata": {},
   "source": [
    "Importing required libraries"
   ]
  },
  {
   "cell_type": "code",
   "execution_count": 1,
   "metadata": {},
   "outputs": [],
   "source": [
    "import cv2\n",
    "import pydicom\n",
    "import os"
   ]
  },
  {
   "cell_type": "code",
   "execution_count": 2,
   "metadata": {},
   "outputs": [],
   "source": [
    "InputFolder='TCGA-THCA/' #Input Directory containing dicom images of patients\n",
    "InputPath=os.listdir(InputFolder)"
   ]
  },
  {
   "cell_type": "markdown",
   "metadata": {},
   "source": [
    "We Create a new JPG_Images folder in home directory that contains a similar structure to that of input folder.\n",
    "The JPG_Images folder contains all dicom images converted to JPG format."
   ]
  },
  {
   "cell_type": "code",
   "execution_count": 3,
   "metadata": {},
   "outputs": [],
   "source": [
    "#Output folder to be created in current working directory where JPG images will be stored.\n",
    "OutputFolder = 'JPG_Images/'"
   ]
  },
  {
   "cell_type": "code",
   "execution_count": 4,
   "metadata": {},
   "outputs": [],
   "source": [
    "filesDCM=[] #Stores name of all dcm files\n",
    "Error=[]    #Stores name of files that produce error while handling pixel data\n",
    "\n",
    "for dirName,subdirList,fileList in os.walk(InputFolder):\n",
    "    for fileName in fileList:\n",
    "        if \".dcm\" in fileName.lower():\n",
    "            ds=pydicom.read_file(os.path.join(dirName,fileName))\n",
    "            fileNameJPG=fileName.lower().replace(\".dcm\",\".jpg\")\n",
    "            if(os.path.isdir(OutputFolder+dirName)==False):\n",
    "                os.makedirs(OutputFolder+dirName , 755)\n",
    "            try:\n",
    "                filesDCM.append(os.path.join(dirName,fileName))\n",
    "                cv2.imwrite(os.path.join(OutputFolder+dirName, fileNameJPG),ds.pixel_array*0.15+50)\n",
    "                #In above statement each image's contrast and brightness have been altered for better viewing.\n",
    "                #For originals just remove the '*0.15+50' from the statement.\n",
    "            except:\n",
    "                Error.append(os.path.join(dirName,fileName))"
   ]
  },
  {
   "cell_type": "markdown",
   "metadata": {},
   "source": [
    "The files that produced error are:"
   ]
  },
  {
   "cell_type": "markdown",
   "metadata": {},
   "source": [
    "Note: The error observed is: \"The length of the pixel data in the dataset doesn't match the expected amount (484538 vs. 524288 bytes). The dataset may be corrupted or there may be an issue with the pixel data handler.\""
   ]
  },
  {
   "cell_type": "code",
   "execution_count": 5,
   "metadata": {},
   "outputs": [
    {
     "name": "stdout",
     "output_type": "stream",
     "text": [
      "['TCGA-THCA/TCGA-DE-A4MA\\\\06-13-2004-PETCT Tumor Img. Skull Base to Mid-thigh-17769\\\\3-CTSkullToThigh  5.0  B30f-35056\\\\000000.dcm', 'TCGA-THCA/TCGA-DE-A4MA\\\\06-13-2004-PETCT Tumor Img. Skull Base to Mid-thigh-17769\\\\4-CT HeadNeck  3.0  eFoV-85383\\\\000098.dcm', 'TCGA-THCA/TCGA-DE-A4MA\\\\06-13-2004-PETCT Tumor Img. Skull Base to Mid-thigh-17769\\\\4-CTSkullToThigh  5.0  eFoV-70599\\\\000001.dcm', 'TCGA-THCA/TCGA-DE-A4MB\\\\07-05-2004-Outside Read or Comparison NEURO CT-12859\\\\2-ISO370 100ML-99801\\\\000046.dcm', 'TCGA-THCA/TCGA-DE-A4MC\\\\07-21-2004-CT NECK SOFT TISSUE  W CONTR-24988\\\\6-Neck  ST Coronal-45654\\\\000045.dcm']\n"
     ]
    }
   ],
   "source": [
    "print(Error)"
   ]
  },
  {
   "cell_type": "code",
   "execution_count": null,
   "metadata": {},
   "outputs": [],
   "source": []
  }
 ],
 "metadata": {
  "kernelspec": {
   "display_name": "Python 3",
   "language": "python",
   "name": "python3"
  },
  "language_info": {
   "codemirror_mode": {
    "name": "ipython",
    "version": 3
   },
   "file_extension": ".py",
   "mimetype": "text/x-python",
   "name": "python",
   "nbconvert_exporter": "python",
   "pygments_lexer": "ipython3",
   "version": "3.6.8"
  }
 },
 "nbformat": 4,
 "nbformat_minor": 2
}
